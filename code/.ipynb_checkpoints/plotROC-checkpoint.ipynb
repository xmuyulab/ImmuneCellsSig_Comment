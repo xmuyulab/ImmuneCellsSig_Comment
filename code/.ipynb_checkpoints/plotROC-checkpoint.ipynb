{
 "cells": [
  {
   "cell_type": "code",
   "execution_count": 1,
   "metadata": {},
   "outputs": [],
   "source": [
    "%matplotlib inline\n",
    "from warnings import filterwarnings\n",
    "filterwarnings('ignore')\n",
    "import matplotlib.pyplot as plt\n",
    "import pandas as pd\n",
    "import numpy as np\n",
    "from sklearn.metrics import roc_curve\n",
    "from sklearn.metrics import roc_auc_score"
   ]
  },
  {
   "cell_type": "code",
   "execution_count": 2,
   "metadata": {},
   "outputs": [],
   "source": [
    "def draw_auc(ds,ax):\n",
    "    auc_data = pd.read_csv('../result/{}_papersig_prediction.csv'.format(ds))\n",
    "    fpr, tpr, thresholds, auc = {}, {}, {}, {}\n",
    "    color = ['deeppink','navy','darkorange','cornflowerblue']\n",
    "    plt.figure(figsize=(20,20))\n",
    "    for i in dataset:\n",
    "        if i == ds: continue\n",
    "        fpr[i], tpr[i], thresholds[i]  = roc_curve(auc_data[auc_data['Dataset']==i]['label'].replace({1:0,2:1}),auc_data[auc_data['Dataset']==i]['prediction'])\n",
    "        auc[i] = roc_auc_score(auc_data[auc_data['Dataset']==i]['label'].replace({1:0,2:1}),auc_data[auc_data['Dataset']==i]['prediction'])\n",
    "\n",
    "        ax.plot(fpr[i], tpr[i],\n",
    "                 label=i+' ROC curve (area = {0:0.2f})'.format(auc[i]),\n",
    "                 color=color.pop(), linestyle='-.', linewidth=4)\n",
    "\n",
    "\n",
    "    ax.plot([0, 1], [0, 1], 'k--', lw=2)\n",
    "    ax.set(xlabel='False Positive Rate', \n",
    "           ylabel='True Positive Rate',\n",
    "           xlim=[-0.01, 1.01],\n",
    "           ylim=[-0.01, 1.01],\n",
    "           title=ds)\n",
    "\n",
    "    ax.legend(loc=\"lower right\", prop={'size': 14.3})"
   ]
  },
  {
   "cell_type": "code",
   "execution_count": null,
   "metadata": {},
   "outputs": [],
   "source": [
    "_, ((ax1, ax2), (ax3, ax4)) = plt.subplots(2, 2,figsize=(20,20))\n",
    "\n",
    "for i in zip(dataset,[ax1, ax2,ax3,ax4]):\n",
    "    draw_auc(*i)\n",
    "    \n",
    "_.savefig(\"../result/auc.pdf\", bbox_inches='tight')"
   ]
  }
 ],
 "metadata": {
  "kernelspec": {
   "display_name": "Python 3",
   "language": "python",
   "name": "python3"
  },
  "language_info": {
   "codemirror_mode": {
    "name": "ipython",
    "version": 3
   },
   "file_extension": ".py",
   "mimetype": "text/x-python",
   "name": "python",
   "nbconvert_exporter": "python",
   "pygments_lexer": "ipython3",
   "version": "3.8.3"
  }
 },
 "nbformat": 4,
 "nbformat_minor": 4
}
